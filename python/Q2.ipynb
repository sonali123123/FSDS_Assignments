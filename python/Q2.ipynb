{
 "cells": [
  {
   "cell_type": "markdown",
   "id": "907eb31b",
   "metadata": {},
   "source": [
    "Question 2: -\n",
    "Consider a string to be valid if all characters of the string appear the same number of times. It is also valid if\n",
    "he can remove just one character at the index in the string, and the remaining characters will occur the same\n",
    "number of times. Given a string, determine if it is valid. If so, return YES , otherwise return NO .\n",
    "\n",
    "Note - You have to write at least 2 additional test cases in which your program will run successfully and provide\n",
    "an explanation for the same.\n",
    "\n",
    "Example input 1 - s = “abc”. This is a valid string because frequencies are { “a”: 1, “b”: 1, “c”: 1 }\n",
    "\n",
    "Example output 1- YES\n",
    "\n",
    "Example input 2 - s “abcc”. This string is not valid as we can remove only 1 occurrence of “c”. That leaves\n",
    "character frequencies of { “a”: 1, “b”: 1 , “c”: 2 }\n",
    "\n",
    "Example output 2 - NO"
   ]
  },
  {
   "cell_type": "code",
   "execution_count": 5,
   "id": "01d84c24",
   "metadata": {},
   "outputs": [],
   "source": [
    "def str_count(s):\n",
    "    dt = {}\n",
    "    for i in s:\n",
    "        if i not in dt:\n",
    "            dt[i] = 1\n",
    "        else:\n",
    "            dt[i] += 1\n",
    "    return dt\n",
    "\n",
    "def validate_string(dt):\n",
    "    l = list(dt.values())\n",
    "    if all(l[i - 1] == l[i]  for i in range(1, len(dt.values()))):\n",
    "        return \"Yes\"\n",
    "    else:\n",
    "        return \"NO\""
   ]
  },
  {
   "cell_type": "code",
   "execution_count": 8,
   "id": "932f0c04",
   "metadata": {},
   "outputs": [
    {
     "data": {
      "text/plain": [
       "'Yes'"
      ]
     },
     "execution_count": 8,
     "metadata": {},
     "output_type": "execute_result"
    }
   ],
   "source": [
    "# Test Case 1\n",
    "s = \"aabbcc\"\n",
    "dt = str_count(s)\n",
    "validate_string(dt)"
   ]
  },
  {
   "cell_type": "code",
   "execution_count": 9,
   "id": "34461f75",
   "metadata": {},
   "outputs": [
    {
     "data": {
      "text/plain": [
       "'NO'"
      ]
     },
     "execution_count": 9,
     "metadata": {},
     "output_type": "execute_result"
    }
   ],
   "source": [
    "# # Test Case 2\n",
    "s = \"abbcc\"\n",
    "dt = str_count(s)\n",
    "validate_string(dt)"
   ]
  },
  {
   "cell_type": "code",
   "execution_count": 10,
   "id": "151e14c7",
   "metadata": {},
   "outputs": [
    {
     "data": {
      "text/plain": [
       "'NO'"
      ]
     },
     "execution_count": 10,
     "metadata": {},
     "output_type": "execute_result"
    }
   ],
   "source": [
    "s = \"abcc\"\n",
    "dt = str_count(s)\n",
    "validate_string(dt)"
   ]
  },
  {
   "cell_type": "code",
   "execution_count": 11,
   "id": "83736af8",
   "metadata": {},
   "outputs": [
    {
     "data": {
      "text/plain": [
       "'Yes'"
      ]
     },
     "execution_count": 11,
     "metadata": {},
     "output_type": "execute_result"
    }
   ],
   "source": [
    "s = \"abc\"\n",
    "dt = str_count(s)\n",
    "validate_string(dt)"
   ]
  },
  {
   "cell_type": "code",
   "execution_count": null,
   "id": "de76b424",
   "metadata": {},
   "outputs": [],
   "source": []
  }
 ],
 "metadata": {
  "kernelspec": {
   "display_name": "Python 3 (ipykernel)",
   "language": "python",
   "name": "python3"
  },
  "language_info": {
   "codemirror_mode": {
    "name": "ipython",
    "version": 3
   },
   "file_extension": ".py",
   "mimetype": "text/x-python",
   "name": "python",
   "nbconvert_exporter": "python",
   "pygments_lexer": "ipython3",
   "version": "3.9.12"
  }
 },
 "nbformat": 4,
 "nbformat_minor": 5
}
