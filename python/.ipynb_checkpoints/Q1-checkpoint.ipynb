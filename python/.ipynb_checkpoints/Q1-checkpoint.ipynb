{
 "cells": [
  {
   "cell_type": "markdown",
   "id": "eb06c2d2",
   "metadata": {},
   "source": [
    "### Question 1: -\n",
    "Write a program that takes a string as input, and counts the frequency of each word in the string, there might\n",
    "be repeated characters in the string. Your task is to find the highest frequency and returns the length of the\n",
    "highest-frequency word.\n",
    "\n",
    "Note - You have to write at least 2 additional test cases in which your program will run successfully and provide\n",
    "an explanation for the same.\n",
    "\n",
    "Example input - string = “write write write all the number from from from 1 to 100”\n",
    "\n",
    "Example output - 5\n",
    "\n",
    "Explanation - From the given string we can note that the most frequent words are “write” and “from” and\n",
    "the maximum value of both the values is “write” and its corresponding length is 5\n"
   ]
  },
  {
   "cell_type": "code",
   "execution_count": 1,
   "id": "bd80a8b0",
   "metadata": {},
   "outputs": [
    {
     "data": {
      "text/plain": [
       "5"
      ]
     },
     "execution_count": 1,
     "metadata": {},
     "output_type": "execute_result"
    }
   ],
   "source": [
    "from collections import Counter\n",
    "\n",
    "s = \"write write write all the number from from from 1 to 100\"\n",
    "\n",
    "def freq_and_leng(s):\n",
    "    l = s.split()\n",
    "    dt = {}\n",
    "    for i in l:\n",
    "        if i not in dt:\n",
    "            dt[i] = 1\n",
    "        else:\n",
    "            dt[i] += 1\n",
    "    res = Counter(l)\n",
    "    mc1 = res.most_common()[0][0]\n",
    "    mc2 = res.most_common()[1][0]\n",
    "    return len(mc1)\n",
    "freq_and_leng(s)\n"
   ]
  },
  {
   "cell_type": "code",
   "execution_count": 2,
   "id": "6173db6c",
   "metadata": {},
   "outputs": [],
   "source": [
    "### Test cases\n",
    "assert freq_and_leng(\"My My My name name is Aman\") == 2\n",
    "assert freq_and_leng(\"I am learning how how to write test cases\") == 3"
   ]
  },
  {
   "cell_type": "code",
   "execution_count": null,
   "id": "5df1b0a5",
   "metadata": {},
   "outputs": [],
   "source": []
  }
 ],
 "metadata": {
  "kernelspec": {
   "display_name": "Python 3 (ipykernel)",
   "language": "python",
   "name": "python3"
  },
  "language_info": {
   "codemirror_mode": {
    "name": "ipython",
    "version": 3
   },
   "file_extension": ".py",
   "mimetype": "text/x-python",
   "name": "python",
   "nbconvert_exporter": "python",
   "pygments_lexer": "ipython3",
   "version": "3.9.12"
  }
 },
 "nbformat": 4,
 "nbformat_minor": 5
}
